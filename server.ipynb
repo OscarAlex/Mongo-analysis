{
 "cells": [
  {
   "cell_type": "code",
   "execution_count": 1,
   "metadata": {},
   "outputs": [],
   "source": [
    "import socketserver\n",
    "import time\n",
    "import requests\n",
    "import json\n",
    "\n",
    "import matplotlib.pyplot as plt"
   ]
  },
  {
   "cell_type": "code",
   "execution_count": 2,
   "metadata": {},
   "outputs": [],
   "source": [
    "class AlphaTCPHandler(socketserver.BaseRequestHandler):\n",
    "    def handle(self):\n",
    "        print('AlphaTCPHandler')\n",
    "        url = 'https://api.openweathermap.org/data/2.5/weather?q=London&appid=de659c731385b88a7f2394efc9355af8'\n",
    "        url2= 'https://api.openweathermap.org/data/2.5/weather?q=Chicago&appid=de659c731385b88a7f2394efc9355af8'\n",
    "        url3= 'https://api.openweathermap.org/data/2.5/weather?q=Shanghai&appid=de659c731385b88a7f2394efc9355af8'\n",
    "        url4= 'https://api.openweathermap.org/data/2.5/weather?q=Singapore&appid=de659c731385b88a7f2394efc9355af8'\n",
    "        \n",
    "        while True:\n",
    "            info= requests.get(url).json()\n",
    "            info2= requests.get(url2).json()\n",
    "            info3= requests.get(url3).json()\n",
    "            info4= requests.get(url4).json()\n",
    "            \n",
    "            mess= (json.dumps(info)+'\\n').encode(\"utf-8\")\n",
    "            mess2= (json.dumps(info2)+'\\n').encode(\"utf-8\")\n",
    "            mess3= (json.dumps(info3)+'\\n').encode(\"utf-8\")\n",
    "            mess4= (json.dumps(info4)+'\\n').encode(\"utf-8\")\n",
    "            \n",
    "            self.request.send(mess)\n",
    "            self.request.send(mess2)\n",
    "            self.request.send(mess3)\n",
    "            self.request.send(mess4)\n",
    "            \n",
    "            time.sleep(720)"
   ]
  },
  {
   "cell_type": "code",
   "execution_count": null,
   "metadata": {
    "scrolled": true
   },
   "outputs": [
    {
     "name": "stdout",
     "output_type": "stream",
     "text": [
      "server starting localhost:301\n",
      "AlphaTCPHandler\n"
     ]
    },
    {
     "name": "stderr",
     "output_type": "stream",
     "text": [
      "----------------------------------------\n",
      "Exception happened during processing of request from ('127.0.0.1', 63160)\n",
      "Traceback (most recent call last):\n",
      "  File \"C:\\Users\\Oscar\\Anaconda3\\lib\\socketserver.py\", line 316, in _handle_request_noblock\n",
      "    self.process_request(request, client_address)\n",
      "  File \"C:\\Users\\Oscar\\Anaconda3\\lib\\socketserver.py\", line 347, in process_request\n",
      "    self.finish_request(request, client_address)\n",
      "  File \"C:\\Users\\Oscar\\Anaconda3\\lib\\socketserver.py\", line 360, in finish_request\n",
      "    self.RequestHandlerClass(request, client_address, self)\n",
      "  File \"C:\\Users\\Oscar\\Anaconda3\\lib\\socketserver.py\", line 720, in __init__\n",
      "    self.handle()\n",
      "  File \"<ipython-input-2-279d60ab594d>\", line 20, in handle\n",
      "    self.request.send(mess)\n",
      "ConnectionAbortedError: [WinError 10053] Se ha anulado una conexión establecida por el software en su equipo host\n",
      "----------------------------------------\n"
     ]
    },
    {
     "name": "stdout",
     "output_type": "stream",
     "text": [
      "AlphaTCPHandler\n"
     ]
    }
   ],
   "source": [
    "host = 'localhost'\n",
    "port = 301\n",
    "\n",
    "server = socketserver.TCPServer((host, port), AlphaTCPHandler)\n",
    "print(f'server starting {host}:{port}')\n",
    "server.serve_forever()"
   ]
  }
 ],
 "metadata": {
  "kernelspec": {
   "display_name": "Python 3",
   "language": "python",
   "name": "python3"
  },
  "language_info": {
   "codemirror_mode": {
    "name": "ipython",
    "version": 3
   },
   "file_extension": ".py",
   "mimetype": "text/x-python",
   "name": "python",
   "nbconvert_exporter": "python",
   "pygments_lexer": "ipython3",
   "version": "3.7.3"
  }
 },
 "nbformat": 4,
 "nbformat_minor": 4
}
